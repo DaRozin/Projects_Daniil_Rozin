{
 "cells": [
  {
   "cell_type": "markdown",
   "metadata": {},
   "source": [
    "## Домашняя работа по курсу машинное обучение - Факультет экономических наук НИУ ВШЭ\n",
    "### Задача бинарной классификации\n",
    "Применение и оценка качества таких моделей как\n",
    "- kNN\n",
    "- DecisonTree\n",
    "- RandomForest\n",
    "- SGD Linear Classifier"
   ]
  },
  {
   "cell_type": "markdown",
   "metadata": {},
   "source": [
    "## Данные\n",
    "\n",
    "\n",
    "В этой домашней работе мы научимся обучать модели машинного обучения, корректно ставить эксперименты, подбирать гиперпараметры, сравнивать и смешивать модели. Вам предлагается решить задачу бинарной классификации, а именно построить алгоритм, определяющий превысит ли средний заработок человека порог $50k. Каждый объект выборки — человек, для которого известны следующие признаки:\n",
    " - age\n",
    " - workclass\n",
    " - fnlwgt\n",
    " - education\n",
    " - education-num\n",
    " - marital-status\n",
    " - occupation\n",
    " - relationship\n",
    " - race\n",
    " - sex\n",
    " - capital-gain\n",
    " - capital-loss\n",
    " - hours-per-week\n",
    " \n",
    "Более подробно про признаки можно почитать [здесь](http://archive.ics.uci.edu/ml/machine-learning-databases/adult/adult.names). Целевой признак записан в переменной *>50K,<=50K*."
   ]
  },
  {
   "cell_type": "markdown",
   "metadata": {},
   "source": [
    "## Метрика качества\n",
    "\n",
    "Обучение и оценка качества модели производится на независимых множествах примеров. Как правило, имеющующиеся примеры разбивают на два подмножества: обучение (train) и контроль (test). Выбор пропорции разбиения — компромисс. Действительно, большой размер обучения ведет к более качественным алгоритмам, но бОльшему шуму в оценке модели на контроле. И наоборот, большой размер контрольной выборки ведет к менее шумной оценке качества, однако модели получаются менее точными.\n",
    "\n",
    "Многие модели классификации получают оценку принадлежности положительному классу $\\tilde{y}(x) \\in R$ (например, вероятность принадлежности классу 1). Затем принимают решение о классе объекта путем сравнения оценки с некоторым порогом $\\theta$:\n",
    "\n",
    "$y(x) = +1$,  если $\\tilde{y}(x) \\geq \\theta$, $y(x) = -1$, если $\\tilde{y}(x) < \\theta$\n",
    "\n",
    "В этом случае можно рассматривать метрики, которые умеют работать с исходным ответом классификатора. В задании мы будем работать с метрикой AUC-ROC. Детального понимания принципов работы метрики AUC-ROC для выполнения лабораторной не требуется."
   ]
  },
  {
   "cell_type": "markdown",
   "metadata": {},
   "source": [
    "## Подбор гиперпараметров модели\n",
    "\n",
    "В задачах машинного обучения следует различать параметры модели и гиперпараметры (структурные параметры). Обычно параметры модели настраиваются в ходе обучения (например, веса в линейной модели или структура решающего дерева), в то время как гиперпараметры задаются заранее (например, регуляризация в линейной модели или максимальная глубина решающего дерева). Каждая модель обычно имеет множество гиперпараметров, и нет универсальных наборов гиперпараметров, оптимально работающих во всех задачах, для каждой задачи нужно подбирать свой набор.\n",
    "\n",
    "Для оптимизации гиперпараметров модели часто используют _перебор по сетке (grid search)_: для каждого гиперпараметра выбирается несколько значений, перебираются все комбинации значений и выбирается комбинация, на которой модель показывает лучшее качество (с точки зрения метрики, которая оптимизируется). Однако в этом случае нужно грамотно оценивать построенную модель, а именно делать разбиение на обучающую и тестовую выборку. Есть несколько схем, как это можно реализовать: \n",
    "\n",
    " - Разбить имеющуюся выборку на обучающую и тестовую. В этом случае сравнение большого числа моделей при переборе параметров приводит к ситуации, когда лучшая на тестовой подвыборке модель не сохраняет свои качества на новых данных. Можно сказать, что происходит _переобучение_ на тестовую выборку.\n",
    " - Для устранения описанной выше проблемы, можно разбить данные на 3 непересекающихся подвыборки: обучение (`train`), валидация (`validation`) и контроль (`test`). Валидационную подвыборку используют для сравнения моделей, а `test` — для окончательной оценки качества и сравнения семейств моделей с подобранными параметрами.\n",
    " - Другой способ сравнения моделей — [кросс-валидация](http://en.wikipedia.org/wiki/Cross-validation_(statistics). Существуют различные схемы кросс-валидации:\n",
    "  - Leave-One-Out\n",
    "  - K-Fold\n",
    "  - Многократное случайное разбиение выборки\n",
    "  \n",
    "Кросс-валидация вычислительно затратна, особенно если вы делаете перебор по сетке с очень большим числом комбинации. С учетом конечности времени на выполнение задания, возникает ряд компромиссов: \n",
    "  - сетку можно делать более разреженной, перебирая меньше значений каждого параметра; однако, надо не забывать, что в таком случае можно пропустить хорошую комбинацию параметров;\n",
    "  - кросс-валидацию можно делать с меньшим числом разбиений или фолдов, но в таком случае оценка качества кросс-валидации становится более шумной и увеличивается риск выбрать неоптимальный набор параметров из-за случайности разбиения;\n",
    "  - параметры можно оптимизировать последовательно (жадно) — один за другим, а не перебирать все комбинации; такая стратегия не всегда приводит к оптимальному набору;\n",
    "  - перебирать не все комбинации параметров, а небольшое число случайно выбранных."
   ]
  },
  {
   "cell_type": "markdown",
   "metadata": {},
   "source": [
    "## Задание\n",
    "\n",
    "Прежде чем приступать к заданию, рекомендуем в начале прочитать его до конца."
   ]
  },
  {
   "cell_type": "markdown",
   "metadata": {},
   "source": [
    "Загрузите набор данных *data.adult.csv*. Чтобы лучше понимать, с чем вы работаете/корректно ли вы загрузили данные можно вывести несколько первых строк на экран."
   ]
  },
  {
   "cell_type": "code",
   "execution_count": 64,
   "metadata": {},
   "outputs": [
    {
     "data": {
      "text/html": [
       "<div>\n",
       "<style scoped>\n",
       "    .dataframe tbody tr th:only-of-type {\n",
       "        vertical-align: middle;\n",
       "    }\n",
       "\n",
       "    .dataframe tbody tr th {\n",
       "        vertical-align: top;\n",
       "    }\n",
       "\n",
       "    .dataframe thead th {\n",
       "        text-align: right;\n",
       "    }\n",
       "</style>\n",
       "<table border=\"1\" class=\"dataframe\">\n",
       "  <thead>\n",
       "    <tr style=\"text-align: right;\">\n",
       "      <th></th>\n",
       "      <th>age</th>\n",
       "      <th>workclass</th>\n",
       "      <th>fnlwgt</th>\n",
       "      <th>education</th>\n",
       "      <th>education-num</th>\n",
       "      <th>marital-status</th>\n",
       "      <th>occupation</th>\n",
       "      <th>relationship</th>\n",
       "      <th>race</th>\n",
       "      <th>sex</th>\n",
       "      <th>capital-gain</th>\n",
       "      <th>capital-loss</th>\n",
       "      <th>hours-per-week</th>\n",
       "      <th>&gt;50K,&lt;=50K</th>\n",
       "    </tr>\n",
       "  </thead>\n",
       "  <tbody>\n",
       "    <tr>\n",
       "      <td>0</td>\n",
       "      <td>34</td>\n",
       "      <td>Local-gov</td>\n",
       "      <td>284843</td>\n",
       "      <td>HS-grad</td>\n",
       "      <td>9</td>\n",
       "      <td>Never-married</td>\n",
       "      <td>Farming-fishing</td>\n",
       "      <td>Not-in-family</td>\n",
       "      <td>Black</td>\n",
       "      <td>Male</td>\n",
       "      <td>594</td>\n",
       "      <td>0</td>\n",
       "      <td>60</td>\n",
       "      <td>&lt;=50K</td>\n",
       "    </tr>\n",
       "    <tr>\n",
       "      <td>1</td>\n",
       "      <td>40</td>\n",
       "      <td>Private</td>\n",
       "      <td>190290</td>\n",
       "      <td>Some-college</td>\n",
       "      <td>10</td>\n",
       "      <td>Divorced</td>\n",
       "      <td>Sales</td>\n",
       "      <td>Not-in-family</td>\n",
       "      <td>White</td>\n",
       "      <td>Male</td>\n",
       "      <td>0</td>\n",
       "      <td>0</td>\n",
       "      <td>40</td>\n",
       "      <td>&lt;=50K</td>\n",
       "    </tr>\n",
       "    <tr>\n",
       "      <td>2</td>\n",
       "      <td>36</td>\n",
       "      <td>Local-gov</td>\n",
       "      <td>177858</td>\n",
       "      <td>Bachelors</td>\n",
       "      <td>13</td>\n",
       "      <td>Married-civ-spouse</td>\n",
       "      <td>Prof-specialty</td>\n",
       "      <td>Own-child</td>\n",
       "      <td>White</td>\n",
       "      <td>Male</td>\n",
       "      <td>0</td>\n",
       "      <td>0</td>\n",
       "      <td>40</td>\n",
       "      <td>&lt;=50K</td>\n",
       "    </tr>\n",
       "    <tr>\n",
       "      <td>3</td>\n",
       "      <td>22</td>\n",
       "      <td>Private</td>\n",
       "      <td>184756</td>\n",
       "      <td>Some-college</td>\n",
       "      <td>10</td>\n",
       "      <td>Never-married</td>\n",
       "      <td>Sales</td>\n",
       "      <td>Own-child</td>\n",
       "      <td>White</td>\n",
       "      <td>Female</td>\n",
       "      <td>0</td>\n",
       "      <td>0</td>\n",
       "      <td>30</td>\n",
       "      <td>&lt;=50K</td>\n",
       "    </tr>\n",
       "    <tr>\n",
       "      <td>4</td>\n",
       "      <td>47</td>\n",
       "      <td>Private</td>\n",
       "      <td>149700</td>\n",
       "      <td>Bachelors</td>\n",
       "      <td>13</td>\n",
       "      <td>Married-civ-spouse</td>\n",
       "      <td>Tech-support</td>\n",
       "      <td>Husband</td>\n",
       "      <td>White</td>\n",
       "      <td>Male</td>\n",
       "      <td>15024</td>\n",
       "      <td>0</td>\n",
       "      <td>40</td>\n",
       "      <td>&gt;50K</td>\n",
       "    </tr>\n",
       "  </tbody>\n",
       "</table>\n",
       "</div>"
      ],
      "text/plain": [
       "   age  workclass  fnlwgt     education  education-num      marital-status  \\\n",
       "0   34  Local-gov  284843       HS-grad              9       Never-married   \n",
       "1   40    Private  190290  Some-college             10            Divorced   \n",
       "2   36  Local-gov  177858     Bachelors             13  Married-civ-spouse   \n",
       "3   22    Private  184756  Some-college             10       Never-married   \n",
       "4   47    Private  149700     Bachelors             13  Married-civ-spouse   \n",
       "\n",
       "        occupation   relationship   race     sex  capital-gain  capital-loss  \\\n",
       "0  Farming-fishing  Not-in-family  Black    Male           594             0   \n",
       "1            Sales  Not-in-family  White    Male             0             0   \n",
       "2   Prof-specialty      Own-child  White    Male             0             0   \n",
       "3            Sales      Own-child  White  Female             0             0   \n",
       "4     Tech-support        Husband  White    Male         15024             0   \n",
       "\n",
       "   hours-per-week >50K,<=50K  \n",
       "0              60      <=50K  \n",
       "1              40      <=50K  \n",
       "2              40      <=50K  \n",
       "3              30      <=50K  \n",
       "4              40       >50K  "
      ]
     },
     "execution_count": 64,
     "metadata": {},
     "output_type": "execute_result"
    }
   ],
   "source": [
    "import pandas as pd\n",
    "df = pd.read_csv('data.adult.csv', na_values = \"?\")\n",
    "df.head()"
   ]
  },
  {
   "cell_type": "markdown",
   "metadata": {},
   "source": [
    "Иногда в данных встречаются пропуски. Как задаются пропуски обычно либо прописывается в описании к данным, либо просто на месте пропуска после чтения данных оказывается значение numpy.nan. Более подробно о работе с пропусками в Pandas можно прочитать например [здесь](http://pandas.pydata.org/pandas-docs/stable/missing_data.html). \n",
    "\n",
    "В данном датасете пропущенные значения обозначены как \"?\". \n",
    "\n",
    "**(0.5 балла)** Найдите все признаки, имеющие пропущенные значения. Удалите из выборки все объекты с пропусками."
   ]
  },
  {
   "cell_type": "code",
   "execution_count": 268,
   "metadata": {},
   "outputs": [
    {
     "data": {
      "text/plain": [
       "age               0\n",
       "workclass         0\n",
       "fnlwgt            0\n",
       "education         0\n",
       "education-num     0\n",
       "marital-status    0\n",
       "occupation        0\n",
       "relationship      0\n",
       "race              0\n",
       "sex               0\n",
       "capital-gain      0\n",
       "capital-loss      0\n",
       "hours-per-week    0\n",
       "dtype: int64"
      ]
     },
     "metadata": {},
     "output_type": "display_data"
    }
   ],
   "source": [
    "display(df.isna().sum())\n",
    "df.dropna(subset = ['workclass', 'occupation'], axis = 0, inplace = True)"
   ]
  },
  {
   "cell_type": "markdown",
   "metadata": {},
   "source": [
    "Обычно после загрузки датасета всегда необходима его некоторая предобработка. В данном случае она будет заключаться в следующем: \n",
    "\n",
    " - Выделите целевую переменную (ту, которую мы хотим предсказывать) в отдельную переменную, удалите ее из датасета и преобразуйте к бинарному формату.\n",
    " - Обратите внимание, что не все признаки являются вещественными (числовыми). В начале мы будем работать только с вещественными признаками. Выделите их отдельно."
   ]
  },
  {
   "cell_type": "code",
   "execution_count": 66,
   "metadata": {},
   "outputs": [],
   "source": [
    "y = df['>50K,<=50K'].apply(lambda x: 1 if x == '<=50K' else 0)\n",
    "df.drop(['>50K,<=50K'], axis = 1, inplace = True)"
   ]
  },
  {
   "cell_type": "code",
   "execution_count": 269,
   "metadata": {},
   "outputs": [
    {
     "data": {
      "text/html": [
       "<div>\n",
       "<style scoped>\n",
       "    .dataframe tbody tr th:only-of-type {\n",
       "        vertical-align: middle;\n",
       "    }\n",
       "\n",
       "    .dataframe tbody tr th {\n",
       "        vertical-align: top;\n",
       "    }\n",
       "\n",
       "    .dataframe thead th {\n",
       "        text-align: right;\n",
       "    }\n",
       "</style>\n",
       "<table border=\"1\" class=\"dataframe\">\n",
       "  <thead>\n",
       "    <tr style=\"text-align: right;\">\n",
       "      <th></th>\n",
       "      <th>age</th>\n",
       "      <th>fnlwgt</th>\n",
       "      <th>education-num</th>\n",
       "      <th>capital-gain</th>\n",
       "      <th>capital-loss</th>\n",
       "      <th>hours-per-week</th>\n",
       "    </tr>\n",
       "  </thead>\n",
       "  <tbody>\n",
       "    <tr>\n",
       "      <td>0</td>\n",
       "      <td>34</td>\n",
       "      <td>284843</td>\n",
       "      <td>9</td>\n",
       "      <td>594</td>\n",
       "      <td>0</td>\n",
       "      <td>60</td>\n",
       "    </tr>\n",
       "    <tr>\n",
       "      <td>1</td>\n",
       "      <td>40</td>\n",
       "      <td>190290</td>\n",
       "      <td>10</td>\n",
       "      <td>0</td>\n",
       "      <td>0</td>\n",
       "      <td>40</td>\n",
       "    </tr>\n",
       "    <tr>\n",
       "      <td>2</td>\n",
       "      <td>36</td>\n",
       "      <td>177858</td>\n",
       "      <td>13</td>\n",
       "      <td>0</td>\n",
       "      <td>0</td>\n",
       "      <td>40</td>\n",
       "    </tr>\n",
       "    <tr>\n",
       "      <td>3</td>\n",
       "      <td>22</td>\n",
       "      <td>184756</td>\n",
       "      <td>10</td>\n",
       "      <td>0</td>\n",
       "      <td>0</td>\n",
       "      <td>30</td>\n",
       "    </tr>\n",
       "    <tr>\n",
       "      <td>4</td>\n",
       "      <td>47</td>\n",
       "      <td>149700</td>\n",
       "      <td>13</td>\n",
       "      <td>15024</td>\n",
       "      <td>0</td>\n",
       "      <td>40</td>\n",
       "    </tr>\n",
       "  </tbody>\n",
       "</table>\n",
       "</div>"
      ],
      "text/plain": [
       "   age  fnlwgt  education-num  capital-gain  capital-loss  hours-per-week\n",
       "0   34  284843              9           594             0              60\n",
       "1   40  190290             10             0             0              40\n",
       "2   36  177858             13             0             0              40\n",
       "3   22  184756             10             0             0              30\n",
       "4   47  149700             13         15024             0              40"
      ]
     },
     "execution_count": 269,
     "metadata": {},
     "output_type": "execute_result"
    }
   ],
   "source": [
    "Xnum = df[['age', 'fnlwgt', 'education-num',\n",
    "       'capital-gain', 'capital-loss', 'hours-per-week']]\n",
    "Xnum.head()"
   ]
  },
  {
   "cell_type": "markdown",
   "metadata": {},
   "source": [
    "## Обучение классификаторов на вещественных признаках\n",
    "\n",
    "В данном разделе необходимо будет работать только с вещественными признаками и целевой переменной.\n",
    "\n",
    "В начале посмотрим как работает подбор параметров по сетке и как влияет на качество разбиение выборки. Сейчас и далее будем рассматривать 4 алгоритма:\n",
    " - [kNN](http://scikit-learn.org/stable/modules/generated/sklearn.neighbors.KNeighborsClassifier.html)\n",
    " - [DecisonTree](http://scikit-learn.org/stable/modules/generated/sklearn.tree.DecisionTreeClassifier.html#sklearn.tree.DecisionTreeClassifier)\n",
    " - [RandomForest](http://scikit-learn.org/stable/modules/generated/sklearn.ensemble.RandomForestClassifier.html)\n",
    " - [SGD Linear Classifier](http://scikit-learn.org/stable/modules/generated/sklearn.linear_model.SGDClassifier.html)\n",
    "\n",
    "Для начала у первых трёх алгоритмов выберем один гиперпараметр, который будем оптимизировать:\n",
    " - kNN — число соседей (*n_neighbors*)\n",
    " - DecisonTree — глубина дерева (*max_depth*)\n",
    " - SGD Linear Classifier — оптимизируемая функция (*loss*)\n",
    " \n",
    "Остальные параметры оставляйте в значениях по умолчанию. Для подбора гиперпараметров воспользуйтесь перебором по сетке, который реализован в классе [GridSearchCV](https://scikit-learn.org/stable/modules/generated/sklearn.model_selection.GridSearchCV.html). В качестве схемы кросс-валидации используйте 5-fold cv, которую можно задать с помощью класса [KFold](https://scikit-learn.org/stable/modules/generated/sklearn.model_selection.KFold.html).\n",
    "\n",
    "**(1.5 балла)** Для каждого алгоритма подберите оптимальные значения указанных гиперпараметров. Постройте график среднего качества по кросс-валидации алгоритма при заданном значении гиперпараметра, на котором также отобразите доверительный интервал."
   ]
  },
  {
   "cell_type": "code",
   "execution_count": 5,
   "metadata": {},
   "outputs": [],
   "source": [
    "from sklearn.neighbors import KNeighborsClassifier\n",
    "from sklearn.tree import DecisionTreeClassifier\n",
    "from sklearn.ensemble import RandomForestClassifier\n",
    "from sklearn.linear_model import SGDClassifier\n",
    "from sklearn.model_selection import GridSearchCV\n",
    "import numpy as np"
   ]
  },
  {
   "cell_type": "code",
   "execution_count": 49,
   "metadata": {},
   "outputs": [
    {
     "name": "stdout",
     "output_type": "stream",
     "text": [
      "{'n_neighbors': 4}\n",
      "0.6407160528708574\n"
     ]
    }
   ],
   "source": [
    "# kNN — число соседей (n_neighbors)\n",
    "search_kNN = GridSearchCV(\n",
    "    KNeighborsClassifier(),\n",
    "    param_grid={\n",
    "        'n_neighbors': np.arange(1, 25)\n",
    "    },\n",
    "    cv=5,\n",
    "    scoring = 'roc_auc'\n",
    ")\n",
    "search_kNN.fit(Xnum, y)\n",
    "kNN_param = search_kNN.best_params_\n",
    "kNN_sc = search_kNN.best_score_\n",
    "print(kNN_param)\n",
    "print(kNN_sc)"
   ]
  },
  {
   "cell_type": "code",
   "execution_count": 50,
   "metadata": {},
   "outputs": [
    {
     "data": {
      "text/plain": [
       "Text(0.5, 1.0, 'Динамика среднего качества в зависимости от кол-ва соседей')"
      ]
     },
     "execution_count": 50,
     "metadata": {},
     "output_type": "execute_result"
    },
    {
     "data": {
      "image/png": "[encoded data removed]",
      "text/plain": [
       "<Figure size 432x288 with 1 Axes>"
      ]
     },
     "metadata": {
      "needs_background": "light"
     },
     "output_type": "display_data"
    }
   ],
   "source": [
    "# график среднего качества\n",
    "import matplotlib.pyplot as plt\n",
    "df_sc = pd.DataFrame(search_kNN.cv_results_) # cтолб\n",
    "y1 = df_sc.mean_test_score\n",
    "x1 = np.arange(1, 25)\n",
    "\n",
    "#график\n",
    "fig = plt.figure()\n",
    "axes = fig.add_axes([0,0,1,1])\n",
    "axes.grid()\n",
    "axes.plot(x1, y1, lw = 2)\n",
    "\n",
    "# дов интервал\n",
    "yinter_up = df_sc.mean_test_score + 1.96*df_sc.std_test_score/5**(1/2)\n",
    "yinter_low = df_sc.mean_test_score - 1.96*df_sc.std_test_score/5**(1/2)\n",
    "axes.fill_between(x1,yinter_low, yinter_up, alpha = 0.3)\n",
    "\n",
    "\n",
    "axes.set_ylabel('mean_test_score')\n",
    "axes.set_xlabel('n_neighbors')\n",
    "axes.set_title('Динамика среднего качества в зависимости от кол-ва соседей')"
   ]
  },
  {
   "cell_type": "code",
   "execution_count": 52,
   "metadata": {},
   "outputs": [
    {
     "name": "stdout",
     "output_type": "stream",
     "text": [
      "{'max_depth': 7}\n",
      "0.8416906817151241\n"
     ]
    }
   ],
   "source": [
    "# DecisonTree — глубина дерева (max_depth)\n",
    "search_DT = GridSearchCV(\n",
    "    DecisionTreeClassifier(),\n",
    "    param_grid={\n",
    "        'max_depth': np.arange(1, 20)\n",
    "    },\n",
    "    cv=5, scoring = 'roc_auc'\n",
    ")\n",
    "search_DT.fit(Xnum, y)\n",
    "DT_param = search_DT.best_params_\n",
    "DT_sc = search_DT.best_score_\n",
    "print(DT_param)\n",
    "print(DT_sc)"
   ]
  },
  {
   "cell_type": "code",
   "execution_count": 54,
   "metadata": {},
   "outputs": [
    {
     "data": {
      "text/plain": [
       "Text(0.5, 1.0, 'Динамика среднего качества в зависимости от max_depth')"
      ]
     },
     "execution_count": 54,
     "metadata": {},
     "output_type": "execute_result"
    },
    {
     "data": {
      "image/png": "[encoded data removed]",
      "text/plain": [
       "<Figure size 432x288 with 1 Axes>"
      ]
     },
     "metadata": {
      "needs_background": "light"
     },
     "output_type": "display_data"
    }
   ],
   "source": [
    "# график среднего качества\n",
    "df_sc = pd.DataFrame(search_DT.cv_results_)\n",
    "y1 = df_sc.mean_test_score\n",
    "x1 = np.arange(1, 20)\n",
    "\n",
    "#график\n",
    "fig = plt.figure()\n",
    "axes = fig.add_axes([0,0,1,1])\n",
    "axes.grid()\n",
    "axes.plot(x1, y1, lw = 2)\n",
    "\n",
    "# дов интервал\n",
    "yinter_up = df_sc.mean_test_score + 1.96*df_sc.std_test_score/5**(1/2)\n",
    "yinter_low = df_sc.mean_test_score - 1.96*df_sc.std_test_score/5**(1/2)\n",
    "axes.fill_between(x1,yinter_low, yinter_up, alpha = 0.3)\n",
    "\n",
    "axes.set_ylabel('mean_test_score')\n",
    "axes.set_xlabel('max_depth')\n",
    "axes.set_title('Динамика среднего качества в зависимости от max_depth')"
   ]
  },
  {
   "cell_type": "code",
   "execution_count": 95,
   "metadata": {},
   "outputs": [
    {
     "name": "stdout",
     "output_type": "stream",
     "text": [
      "{'loss': 'perceptron'}\n",
      "0.6202435848011406\n"
     ]
    }
   ],
   "source": [
    "loss = ['hinge', 'log', 'modified_huber',\n",
    "        'squared_hinge',\n",
    "        'perceptron']\n",
    "\n",
    "search_SGD = GridSearchCV(\n",
    "    SGDClassifier(),\n",
    "    param_grid={\n",
    "        'loss': loss\n",
    "    },\n",
    "    cv=5, scoring = 'roc_auc'\n",
    "    \n",
    ")\n",
    "search_SGD.fit(Xnum, y)\n",
    "SGD_param = search_SGD.best_params_\n",
    "SGD_sc = search_SGD.best_score_\n",
    "print(SGD_param)\n",
    "print(SGD_sc)"
   ]
  },
  {
   "cell_type": "markdown",
   "metadata": {},
   "source": [
    "Что вы можете сказать о получившихся графиках?\n",
    "\n",
    "**(1 балл)** Также подберём число деревьев (*n_estimators*) в алгоритме RandomForest. Как известно, в общем случае Random Forest не переобучается с увеличением количества деревьев, так что при увеличении этого гиперпараметра его качество не будет становиться хуже. Поэтому подберите такое количество деревьев, при котором качество на кросс-валидации стабилизируется. Обратите внимание, что для проведения этого эксперимента не нужно с нуля обучать много случайных лесов с различными количествами деревьев. Обучите один случайный лес с максимальным интересным количеством деревьев, а затем рассмотрите подмножества разных размеров, состоящие из деревьев построенного леса (поле [*estimators_*](http://scikit-learn.org/stable/modules/generated/sklearn.ensemble.RandomForestClassifier.html)). В дальнейших экспериментах используйте это количество деревьев."
   ]
  },
  {
   "cell_type": "code",
   "execution_count": 204,
   "metadata": {
    "scrolled": true
   },
   "outputs": [
    {
     "name": "stderr",
     "output_type": "stream",
     "text": [
      "\n",
      "  0%|          | 0/100 [00:00<?, ?it/s]\u001b[A\n",
      "  1%|          | 1/100 [00:00<00:15,  6.39it/s]\u001b[A\n",
      "  2%|▏         | 2/100 [00:00<00:16,  5.92it/s]\u001b[A\n",
      "  3%|▎         | 3/100 [00:00<00:19,  4.90it/s]\u001b[A\n",
      "  4%|▍         | 4/100 [00:01<00:24,  3.94it/s]\u001b[A\n",
      "  5%|▌         | 5/100 [00:01<00:29,  3.22it/s]\u001b[A\n",
      "  6%|▌         | 6/100 [00:01<00:34,  2.70it/s]\u001b[A\n",
      "  7%|▋         | 7/100 [00:02<00:40,  2.30it/s]\u001b[A\n",
      "  8%|▊         | 8/100 [00:03<00:45,  2.02it/s]\u001b[A\n",
      "  9%|▉         | 9/100 [00:03<00:52,  1.75it/s]\u001b[A\n",
      " 10%|█         | 10/100 [00:04<00:57,  1.56it/s]\u001b[A\n",
      " 11%|█         | 11/100 [00:05<01:04,  1.39it/s]\u001b[A\n",
      " 12%|█▏        | 12/100 [00:06<01:09,  1.27it/s]\u001b[A\n",
      " 13%|█▎        | 13/100 [00:07<01:14,  1.17it/s]\u001b[A\n",
      " 14%|█▍        | 14/100 [00:08<01:22,  1.04it/s]\u001b[A\n",
      " 15%|█▌        | 15/100 [00:09<01:26,  1.02s/it]\u001b[A\n",
      " 16%|█▌        | 16/100 [00:11<01:38,  1.17s/it]\u001b[A\n",
      " 17%|█▋        | 17/100 [00:12<01:41,  1.23s/it]\u001b[A\n",
      " 18%|█▊        | 18/100 [00:14<01:43,  1.27s/it]\u001b[A\n",
      " 19%|█▉        | 19/100 [00:15<01:47,  1.33s/it]\u001b[A\n",
      " 20%|██        | 20/100 [00:17<01:51,  1.39s/it]\u001b[A\n",
      " 21%|██        | 21/100 [00:18<01:55,  1.46s/it]\u001b[A\n",
      " 22%|██▏       | 22/100 [00:20<02:00,  1.54s/it]\u001b[A\n",
      " 23%|██▎       | 23/100 [00:22<02:03,  1.60s/it]\u001b[A\n",
      " 24%|██▍       | 24/100 [00:24<02:08,  1.70s/it]\u001b[A\n",
      " 25%|██▌       | 25/100 [00:26<02:14,  1.80s/it]\u001b[A\n",
      " 26%|██▌       | 26/100 [00:28<02:19,  1.88s/it]\u001b[A\n",
      " 27%|██▋       | 27/100 [00:30<02:25,  1.99s/it]\u001b[A\n",
      " 28%|██▊       | 28/100 [00:32<02:27,  2.05s/it]\u001b[A\n",
      " 29%|██▉       | 29/100 [00:35<02:30,  2.12s/it]\u001b[A\n",
      " 30%|███       | 30/100 [00:37<02:33,  2.19s/it]\u001b[A\n",
      " 31%|███       | 31/100 [00:39<02:35,  2.26s/it]\u001b[A\n",
      " 32%|███▏      | 32/100 [00:42<02:39,  2.34s/it]\u001b[A\n",
      " 33%|███▎      | 33/100 [00:44<02:41,  2.41s/it]\u001b[A\n",
      " 34%|███▍      | 34/100 [00:47<02:43,  2.47s/it]\u001b[A\n",
      " 35%|███▌      | 35/100 [00:50<02:45,  2.55s/it]\u001b[A\n",
      " 36%|███▌      | 36/100 [00:53<02:46,  2.61s/it]\u001b[A\n",
      " 37%|███▋      | 37/100 [00:55<02:48,  2.68s/it]\u001b[A\n",
      " 38%|███▊      | 38/100 [00:58<02:52,  2.78s/it]\u001b[A\n",
      " 39%|███▉      | 39/100 [01:01<02:53,  2.84s/it]\u001b[A\n",
      " 40%|████      | 40/100 [01:05<02:56,  2.93s/it]\u001b[A\n",
      " 41%|████      | 41/100 [01:08<02:56,  3.00s/it]\u001b[A\n",
      " 42%|████▏     | 42/100 [01:11<02:58,  3.07s/it]\u001b[A\n",
      " 43%|████▎     | 43/100 [01:14<02:58,  3.14s/it]\u001b[A\n",
      " 44%|████▍     | 44/100 [01:18<02:59,  3.21s/it]\u001b[A\n",
      " 45%|████▌     | 45/100 [01:22<03:17,  3.60s/it]\u001b[A\n",
      " 46%|████▌     | 46/100 [01:26<03:17,  3.66s/it]\u001b[A\n",
      " 47%|████▋     | 47/100 [01:29<03:12,  3.64s/it]\u001b[A\n",
      " 48%|████▊     | 48/100 [01:34<03:24,  3.93s/it]\u001b[A\n",
      " 49%|████▉     | 49/100 [01:39<03:28,  4.09s/it]\u001b[A\n",
      " 50%|█████     | 50/100 [01:43<03:27,  4.15s/it]\u001b[A\n",
      " 51%|█████     | 51/100 [01:47<03:29,  4.28s/it]\u001b[A\n",
      " 52%|█████▏    | 52/100 [01:52<03:29,  4.37s/it]\u001b[A\n",
      " 53%|█████▎    | 53/100 [01:57<03:28,  4.44s/it]\u001b[A\n",
      " 54%|█████▍    | 54/100 [02:01<03:28,  4.54s/it]\u001b[A\n",
      " 55%|█████▌    | 55/100 [02:06<03:28,  4.63s/it]\u001b[A\n",
      " 56%|█████▌    | 56/100 [02:11<03:19,  4.55s/it]\u001b[A\n",
      " 57%|█████▋    | 57/100 [02:15<03:13,  4.50s/it]\u001b[A\n",
      " 58%|█████▊    | 58/100 [02:20<03:11,  4.56s/it]\u001b[A\n",
      " 59%|█████▉    | 59/100 [02:25<03:22,  4.93s/it]\u001b[A\n",
      " 60%|██████    | 60/100 [02:31<03:19,  4.99s/it]\u001b[A\n",
      " 61%|██████    | 61/100 [02:35<03:12,  4.94s/it]\u001b[A\n",
      " 62%|██████▏   | 62/100 [02:40<03:07,  4.93s/it]\u001b[A\n",
      " 63%|██████▎   | 63/100 [02:45<02:59,  4.84s/it]\u001b[A\n",
      " 64%|██████▍   | 64/100 [02:50<02:58,  4.95s/it]\u001b[A\n",
      " 65%|██████▌   | 65/100 [02:55<02:55,  5.01s/it]\u001b[A\n",
      " 66%|██████▌   | 66/100 [03:01<02:54,  5.13s/it]\u001b[A\n",
      " 67%|██████▋   | 67/100 [03:06<02:52,  5.22s/it]\u001b[A\n",
      " 68%|██████▊   | 68/100 [03:12<02:51,  5.35s/it]\u001b[A\n",
      " 69%|██████▉   | 69/100 [03:18<02:49,  5.45s/it]\u001b[A\n",
      " 70%|███████   | 70/100 [03:23<02:44,  5.48s/it]\u001b[A\n",
      " 71%|███████   | 71/100 [03:29<02:39,  5.52s/it]\u001b[A\n",
      " 72%|███████▏  | 72/100 [03:34<02:36,  5.60s/it]\u001b[A\n",
      " 73%|███████▎  | 73/100 [03:40<02:33,  5.67s/it]\u001b[A\n",
      " 74%|███████▍  | 74/100 [03:46<02:30,  5.79s/it]\u001b[A\n",
      " 75%|███████▌  | 75/100 [03:52<02:26,  5.86s/it]\u001b[A\n",
      " 76%|███████▌  | 76/100 [03:59<02:24,  6.02s/it]\u001b[A\n",
      " 77%|███████▋  | 77/100 [04:05<02:18,  6.02s/it]\u001b[A\n",
      " 78%|███████▊  | 78/100 [04:11<02:12,  6.01s/it]\u001b[A\n",
      " 79%|███████▉  | 79/100 [04:18<02:14,  6.40s/it]\u001b[A\n",
      " 80%|████████  | 80/100 [04:24<02:06,  6.32s/it]\u001b[A\n",
      " 81%|████████  | 81/100 [04:30<01:59,  6.27s/it]\u001b[A\n",
      " 82%|████████▏ | 82/100 [04:37<01:53,  6.28s/it]\u001b[A\n",
      " 83%|████████▎ | 83/100 [04:43<01:45,  6.23s/it]\u001b[A\n",
      " 84%|████████▍ | 84/100 [04:49<01:40,  6.31s/it]\u001b[A\n",
      " 85%|████████▌ | 85/100 [04:56<01:36,  6.46s/it]\u001b[A\n",
      " 86%|████████▌ | 86/100 [05:02<01:29,  6.42s/it]\u001b[A\n",
      " 87%|████████▋ | 87/100 [05:09<01:24,  6.51s/it]\u001b[A\n",
      " 88%|████████▊ | 88/100 [05:16<01:20,  6.68s/it]\u001b[A\n",
      " 89%|████████▉ | 89/100 [05:23<01:15,  6.84s/it]\u001b[A\n",
      " 90%|█████████ | 90/100 [05:31<01:11,  7.12s/it]\u001b[A\n",
      " 91%|█████████ | 91/100 [05:39<01:05,  7.28s/it]\u001b[A\n",
      " 92%|█████████▏| 92/100 [05:47<00:59,  7.49s/it]\u001b[A\n",
      " 93%|█████████▎| 93/100 [05:55<00:53,  7.64s/it]\u001b[A\n",
      " 94%|█████████▍| 94/100 [06:03<00:46,  7.74s/it]\u001b[A\n",
      " 95%|█████████▌| 95/100 [06:11<00:39,  7.81s/it]\u001b[A\n",
      " 96%|█████████▌| 96/100 [06:19<00:31,  7.95s/it]\u001b[A\n",
      " 97%|█████████▋| 97/100 [06:27<00:24,  8.01s/it]\u001b[A\n",
      " 98%|█████████▊| 98/100 [06:36<00:16,  8.24s/it]\u001b[A\n",
      " 99%|█████████▉| 99/100 [06:44<00:08,  8.29s/it]\u001b[A\n",
      "100%|██████████| 100/100 [06:53<00:00,  4.13s/it]\u001b[A\n"
     ]
    }
   ],
   "source": [
    "from sklearn.model_selection import cross_val_score\n",
    "from tqdm import tqdm\n",
    "# на семинаре сказали, что можно пройтись по кол-ву деревьев и посмотреть,\n",
    "# метрика перестанет сильно возрастать \n",
    "sc = []\n",
    "n_estimators = range(1, 101)\n",
    "for n in tqdm(n_estimators):\n",
    "    model = RandomForestClassifier(n_estimators = n)\n",
    "    sc.append(cross_val_score(model, Xnum, y, scoring='roc_auc', cv=5).mean())"
   ]
  },
  {
   "cell_type": "code",
   "execution_count": 209,
   "metadata": {},
   "outputs": [
    {
     "data": {
      "text/plain": [
       "0.8184480346000754"
      ]
     },
     "execution_count": 209,
     "metadata": {},
     "output_type": "execute_result"
    }
   ],
   "source": [
    "model = RandomForestClassifier(n_estimators = 100)\n",
    "cross_val_score(model, Xnum, y, scoring='roc_auc', cv=5).mean()"
   ]
  },
  {
   "cell_type": "code",
   "execution_count": 210,
   "metadata": {},
   "outputs": [
    {
     "data": {
      "text/plain": [
       "Text(0.5, 1.0, 'Динамика roc_auc на кросс-валидации в зависимости от кол-ва деревьев')"
      ]
     },
     "execution_count": 210,
     "metadata": {},
     "output_type": "execute_result"
    },
    {
     "data": {
      "image/png": "[encoded data removed]",
      "text/plain": [
       "<Figure size 432x288 with 1 Axes>"
      ]
     },
     "metadata": {
      "needs_background": "light"
     },
     "output_type": "display_data"
    }
   ],
   "source": [
    "import matplotlib.pyplot as plt\n",
    "fig = plt.figure()\n",
    "axes = fig.add_axes([0,0,1,1])\n",
    "axes.grid()\n",
    "axes.plot(n_estimators, sc, lw = 2)\n",
    "axes.set_ylabel('roc_auc')\n",
    "axes.set_xlabel('n_estimators')\n",
    "axes.set_title('Динамика roc_auc на кросс-валидации в зависимости от кол-ва деревьев')"
   ]
  },
  {
   "cell_type": "code",
   "execution_count": null,
   "metadata": {},
   "outputs": [],
   "source": [
    "# Можно взять 60 деревьев, так как после этого метрика почти не возрастет"
   ]
  },
  {
   "cell_type": "markdown",
   "metadata": {},
   "source": [
    "При обучении алгоритмов стоит обращать внимание не только на качество, но и каким образом они работают с данными. В этой задаче получилось так, что некоторые из используемых алгоритмов чувствительны к масштабу признаков. Чтобы убедиться, что это как-то могло повлиять на качество давайте посмотрим на сами признаки.\n",
    "\n",
    "**(0.5 балла)** Постройте гистограммы для признаков *age*, *fnlwgt*, *capital-gain*."
   ]
  },
  {
   "cell_type": "code",
   "execution_count": 30,
   "metadata": {},
   "outputs": [
    {
     "data": {
      "text/plain": [
       "Text(0.5, 1.0, 'capital-gain')"
      ]
     },
     "execution_count": 30,
     "metadata": {},
     "output_type": "execute_result"
    },
    {
     "data": {
      "image/png": "[encoded data removed]",
      "text/plain": [
       "<Figure size 864x288 with 3 Axes>"
      ]
     },
     "metadata": {
      "needs_background": "light"
     },
     "output_type": "display_data"
    }
   ],
   "source": [
    "fig, axes = plt.subplots(1, 3, figsize=(12,4))\n",
    "axes[0].hist(df['age'])\n",
    "axes[0].set_title('age')\n",
    "\n",
    "axes[1].hist(df['fnlwgt'])\n",
    "axes[1].set_title('fnlwgt')\n",
    "\n",
    "axes[2].hist(df['capital-gain'])\n",
    "axes[2].set_title('capital-gain')"
   ]
  },
  {
   "cell_type": "markdown",
   "metadata": {},
   "source": [
    "**(0.5 балла)** Глядя на получившиеся графики в чем заключается особенность данных? На какие алгоритмы это может повлиять? Может ли масшитабирование повлиять на работу этих алгоритмов?"
   ]
  },
  {
   "cell_type": "markdown",
   "metadata": {},
   "source": [
    "Данные имеют разные ед измерения, очень разные по масштабу. Возраст не превышает 100, а fnlwgt может быть больше 100 000. Повлияет на KNeighborsClassifier, так как вклад в расстояние у признаков разный"
   ]
  },
  {
   "cell_type": "markdown",
   "metadata": {},
   "source": [
    "Масштабирование признаков можно выполнить, например, одним из следующих способов способами:\n",
    " - $x_{new} = \\dfrac{x - \\mu}{\\sigma}$, где $\\mu, \\sigma$ — среднее и стандартное отклонение значения признака по всей выборке (см. функцию [scale](http://scikit-learn.org/stable/modules/generated/sklearn.preprocessing.scale.html))\n",
    " - $x_{new} = \\dfrac{x - x_{min}}{x_{max} - x_{min}}$, где $[x_{min}, x_{max}]$ — минимальный интервал значений признака\n",
    "\n",
    "Похожие схемы масштабирования приведены в классах [StandardScaler](http://scikit-learn.org/stable/modules/generated/sklearn.preprocessing.StandardScaler.html#sklearn.preprocessing.StandardScaler) и [MinMaxScaler](http://scikit-learn.org/stable/modules/generated/sklearn.preprocessing.MinMaxScaler.html#sklearn.preprocessing.MinMaxScaler).\n",
    " \n",
    "**(1 балл)** Масштабируйте все вещественные признаки одним из указанных способов и подберите оптимальные значения гиперпараметров аналогичо пункту выше."
   ]
  },
  {
   "cell_type": "code",
   "execution_count": 25,
   "metadata": {},
   "outputs": [],
   "source": [
    "from sklearn.preprocessing import StandardScaler\n",
    "scaler = StandardScaler()\n",
    "Xstand = scaler.fit_transform(Xnum)\n",
    "Xstand\n",
    "\n",
    "# сделаем ф-цию, которая будет подбираться оптимальные параметры для модели и выводить их\n",
    "def Grid(model, params):\n",
    "    search = GridSearchCV(model, param_grid =  params, cv=5, scoring = 'roc_auc')\n",
    "    search.fit(Xstand, y)\n",
    "    print('best_score:', search.best_score_, 'best_params:', search.best_params_)"
   ]
  },
  {
   "cell_type": "code",
   "execution_count": 99,
   "metadata": {},
   "outputs": [
    {
     "name": "stdout",
     "output_type": "stream",
     "text": [
      "best_score: 0.8300767816668997 best_params: {'n_neighbors': 24}\n"
     ]
    }
   ],
   "source": [
    "Grid(KNeighborsClassifier(), {'n_neighbors':np.arange(1, 25)})"
   ]
  },
  {
   "cell_type": "code",
   "execution_count": 26,
   "metadata": {},
   "outputs": [
    {
     "name": "stdout",
     "output_type": "stream",
     "text": [
      "best_score: 0.8410754200182119 best_params: {'max_depth': 7}\n"
     ]
    }
   ],
   "source": [
    "Grid(DecisionTreeClassifier(), {'max_depth': np.arange(1, 20)})"
   ]
  },
  {
   "cell_type": "code",
   "execution_count": 97,
   "metadata": {},
   "outputs": [
    {
     "name": "stdout",
     "output_type": "stream",
     "text": [
      "best_score: 0.8197866555894968 best_params: {'loss': 'log'}\n"
     ]
    }
   ],
   "source": [
    "loss = ['hinge', 'log', 'modified_huber',\n",
    "        'squared_hinge',\n",
    "        'perceptron']\n",
    "\n",
    "Grid(SGDClassifier(), {'loss': loss})"
   ]
  },
  {
   "cell_type": "code",
   "execution_count": 224,
   "metadata": {},
   "outputs": [
    {
     "data": {
      "text/plain": [
       "0.8162356760196234"
      ]
     },
     "execution_count": 224,
     "metadata": {},
     "output_type": "execute_result"
    }
   ],
   "source": [
    "# Также посмотрим на метрику для случайного леса на кросс-валидации\n",
    "RandomForestClassifier(n_estimators = 60)\n",
    "cross_val_score(RandomForestClassifier(n_estimators = 60), X = Xstand, y = y,\n",
    "                scoring = 'roc_auc', cv = 5).mean()"
   ]
  },
  {
   "cell_type": "markdown",
   "metadata": {},
   "source": [
    "Изменилось ли качество у некоторых алгоритмов?\n",
    "- У метода ближ соседей значительно изменилось качество и изменился оптимальный гипер параметр.\n",
    "Изначально было {'n_neighbors': 4} 0.6407160528708574. Это связано с тем, что без масштабирования вклад признака зависит от размерности (расстояние до соседа)\n",
    "- На DecisionTree не повлияло. Предыдущий результат {'n_neighbors': 4} 0.6407160528708574\n",
    "- SGDClassifier - тоже значительно улучшил резултат изначально было примерно 0.61\n",
    "- RandomForestClassifier почти не изменилось"
   ]
  },
  {
   "cell_type": "markdown",
   "metadata": {},
   "source": [
    "**(1,5 балла)** Теперь сделайте перебор нескольких гиперпараметров по сетке и найдите оптимальные комбинации (лучшее среднее значение качества) для каждого алгоритма в данном случае: \n",
    " - KNN — число соседей (*n_neighbors*) и метрика (*metric*)\n",
    " - DecisonTree — глубина дерева (*max_depth*) и критерий разбиения (*criterion*)\n",
    " - RandomForest — критерий разбиения в деревьях (*criterion*) и *max_features* (при фиксированном количестве деревьев, найденном ранее)\n",
    " - SGDClassifier — оптимизируемая функция (*loss*) и *penalty*\n",
    " \n",
    "Обратите внимание, что эта операция может быть ресурсо- и трудоемкой. Как оптимизировать подбор параметров по сетке сказано в разделе \"Подбор гиперпараметров модели\""
   ]
  },
  {
   "cell_type": "code",
   "execution_count": 252,
   "metadata": {},
   "outputs": [],
   "source": [
    "# для сравнения времени подбора параметров\n",
    "from datetime import datetime"
   ]
  },
  {
   "cell_type": "code",
   "execution_count": 254,
   "metadata": {},
   "outputs": [
    {
     "name": "stdout",
     "output_type": "stream",
     "text": [
      "{'metric': 'manhattan', 'n_neighbors': 23}\n",
      "0.8317313177060924\n"
     ]
    }
   ],
   "source": [
    "a = datetime.now()\n",
    "metric = ['euclidean', 'manhattan', 'chebyshev'] #подберем метрики, которые не требуют доп параметров\n",
    "search_kNN = GridSearchCV(\n",
    "    KNeighborsClassifier(),\n",
    "    param_grid={\n",
    "        'n_neighbors': np.arange(1, 25), 'metric': metric},\n",
    "    cv=5,\n",
    "    scoring = 'roc_auc'\n",
    ")\n",
    "search_kNN.fit(Xstand, y)\n",
    "kNN_param = search_kNN.best_params_\n",
    "kNN_sc = search_kNN.best_score_\n",
    "print(kNN_param)\n",
    "print(kNN_sc)\n",
    "b = datetime.now()\n",
    "time_KNN = b - a"
   ]
  },
  {
   "cell_type": "code",
   "execution_count": 265,
   "metadata": {},
   "outputs": [
    {
     "name": "stdout",
     "output_type": "stream",
     "text": [
      "best_score: 0.8420799416078225 best_params: {'criterion': 'entropy', 'max_depth': 8}\n"
     ]
    }
   ],
   "source": [
    "a = datetime.now()\n",
    "Grid(DecisionTreeClassifier(), {'max_depth': np.arange(1, 25), \n",
    "                                'criterion':['gini', 'entropy']})\n",
    "b = datetime.now()\n",
    "time_DT = b - a"
   ]
  },
  {
   "cell_type": "code",
   "execution_count": 259,
   "metadata": {},
   "outputs": [
    {
     "name": "stdout",
     "output_type": "stream",
     "text": [
      "best_score: 0.8248428752926943 best_params: {'loss': 'log', 'penalty': 'l1'}\n"
     ]
    }
   ],
   "source": [
    "a = datetime.now()\n",
    "Grid(SGDClassifier(), {'loss': ['hinge', 'log', 'modified_huber','squared_hinge','perceptron'],\n",
    "                        'penalty': [\"l2\", \"l1\", \"elasticnet\"]})\n",
    "b = datetime.now()\n",
    "time_SGD = b - a"
   ]
  },
  {
   "cell_type": "code",
   "execution_count": 263,
   "metadata": {},
   "outputs": [
    {
     "name": "stdout",
     "output_type": "stream",
     "text": [
      "best_score: 0.8168697774022095 best_params: {'criterion': 'entropy', 'max_features': 'log2'}\n"
     ]
    }
   ],
   "source": [
    "a = datetime.now()\n",
    "Grid(RandomForestClassifier(n_estimators = 60), {'max_features': ['auto', 'sqrt', 'log2'],\n",
    "                                'criterion':['gini', 'entropy']})\n",
    "b = datetime.now()\n",
    "time_RF = b - a"
   ]
  },
  {
   "cell_type": "markdown",
   "metadata": {},
   "source": [
    "Какой из алгоритмов имеет наилучшее качество? \n",
    "- DecisionTreeClassifier() c средним рок-аук 0.84\n",
    "\n",
    "**(0.5 балла)** Сравните алгоритмы с точки зрения времени обучения. Обучение какого из алгоритмов работает дольше всего и, как вы думаете, почему?"
   ]
  },
  {
   "cell_type": "code",
   "execution_count": 266,
   "metadata": {},
   "outputs": [
    {
     "name": "stdout",
     "output_type": "stream",
     "text": [
      "KNeighborsClassifier 0:01:56.451003\n",
      "DecisionTreeClassifier 0:00:09.554080\n",
      "SGDClassifier 0:00:04.910594\n",
      "RandomForestClassifier 0:00:30.653906\n"
     ]
    }
   ],
   "source": [
    "print(\"KNeighborsClassifier\", time_KNN)\n",
    "print(\"DecisionTreeClassifier\", time_DT)\n",
    "print(\"SGDClassifier\", time_SGD)\n",
    "print(\"RandomForestClassifier\", time_RF)"
   ]
  },
  {
   "cell_type": "markdown",
   "metadata": {},
   "source": [
    "По результам видно, что KNN подбирает параметры намного дольше. Предполагаю, что это свзяно \n",
    "с большим кол-во соседеней, расстояние до которых приходится рассчитывать"
   ]
  },
  {
   "cell_type": "markdown",
   "metadata": {},
   "source": [
    "## Добавление категориальных признаков в модели\n",
    "\n",
    "Пока мы не использовали нечисловые признаки, которые есть в датасете. Давайте посмотрим, правильно ли мы сделали и увеличится ли качество моделей после добавлениях этих признаков. \n",
    "\n",
    "**(0.5 балла)** Преобразуйте все категориальные признаки с помощью метода one-hot-encoding (например, это можно сделать с помощью функции [pandas.get_dummies](http://pandas.pydata.org/pandas-docs/stable/generated/pandas.get_dummies.html) или [DictVectorizer](http://scikit-learn.org/stable/modules/generated/sklearn.feature_extraction.DictVectorizer.html) из sklearn)."
   ]
  },
  {
   "cell_type": "code",
   "execution_count": 75,
   "metadata": {},
   "outputs": [
    {
     "data": {
      "text/plain": [
       "(15347, 50)"
      ]
     },
     "execution_count": 75,
     "metadata": {},
     "output_type": "execute_result"
    }
   ],
   "source": [
    "cat_features_mask = (df.dtypes == \"object\").values\n",
    "Xcat = pd.get_dummies(df[df.columns[cat_features_mask]], drop_first = True)\n",
    "Xcat.head()\n",
    "Xcat.shape"
   ]
  },
  {
   "cell_type": "markdown",
   "metadata": {},
   "source": [
    "Так как после кодирования признаков получилось достаточно много, в этой работе мы не будем добавлять их и подбирать заново оптимальные гиперпараметры. \n",
    "\n",
    "**(0.5 балла)** Добавьте к масштабированным вещественным признакам закодированные категориальные и обучите алгоритмы с наилучшими гиперпараметрами из предыдущего пункта. Дало ли добавление новых признаков прирост качества? Измеряйте качество как и раньше используя 5-Fold CV. Для этого удобно воспользоваться функцией [cross_val_score](https://scikit-learn.org/stable/modules/generated/sklearn.model_selection.cross_val_score.html)."
   ]
  },
  {
   "cell_type": "code",
   "execution_count": 79,
   "metadata": {},
   "outputs": [
    {
     "data": {
      "text/plain": [
       "(15347, 56)"
      ]
     },
     "execution_count": 79,
     "metadata": {},
     "output_type": "execute_result"
    }
   ],
   "source": [
    "import numpy as np\n",
    "Xnew = np.concatenate((Xstand, Xcat.to_numpy()), axis=1)\n",
    "print(Xnew.shape) # можно проверить, что массивы правильно склеиились"
   ]
  },
  {
   "cell_type": "code",
   "execution_count": 235,
   "metadata": {},
   "outputs": [
    {
     "name": "stdout",
     "output_type": "stream",
     "text": [
      "0.8881440793644927\n"
     ]
    }
   ],
   "source": [
    "KNN_cross_val = cross_val_score(KNeighborsClassifier(metric =  'manhattan', n_neighbors = 23), X = Xnew, y = y,\n",
    "                scoring = 'roc_auc', cv = 5).mean()\n",
    "print(KNN_cross_val)"
   ]
  },
  {
   "cell_type": "code",
   "execution_count": 233,
   "metadata": {},
   "outputs": [
    {
     "name": "stdout",
     "output_type": "stream",
     "text": [
      "0.8902492682566893\n"
     ]
    }
   ],
   "source": [
    "DT_cross_val = cross_val_score(DecisionTreeClassifier(criterion = 'entropy', max_depth = 8), X = Xnew, y = y,\n",
    "                scoring = 'roc_auc', cv = 5).mean()\n",
    "print(DT_cross_val)"
   ]
  },
  {
   "cell_type": "code",
   "execution_count": 232,
   "metadata": {},
   "outputs": [
    {
     "name": "stdout",
     "output_type": "stream",
     "text": [
      "0.9016495278947977\n"
     ]
    }
   ],
   "source": [
    "SGD_cross_val = cross_val_score(SGDClassifier(loss= 'log', penalty = 'l2'), X = Xnew, y = y,\n",
    "                scoring = 'roc_auc', cv = 5).mean()\n",
    "print(SGD_cross_val)"
   ]
  },
  {
   "cell_type": "code",
   "execution_count": 230,
   "metadata": {},
   "outputs": [
    {
     "name": "stdout",
     "output_type": "stream",
     "text": [
      "0.8991052645158838\n"
     ]
    }
   ],
   "source": [
    "RF_cross_val = cross_val_score(RandomForestClassifier(n_estimators = 60, \n",
    "                                       criterion = 'entropy',\n",
    "                                       max_features = 'auto'),\n",
    "                X = Xnew, y = y, scoring = 'roc_auc', cv = 5).mean()\n",
    "print(RF_cross_val)"
   ]
  },
  {
   "cell_type": "markdown",
   "metadata": {},
   "source": [
    "Отличается ли теперь наилучший классификатор от наилучшего в предыдущем пункте?\n",
    "- Да, отличается, теперь наилучший классификатор это SGDClassifier, а на 2 месту случайный лес"
   ]
  },
  {
   "cell_type": "markdown",
   "metadata": {},
   "source": [
    "## Смешивание моделей\n",
    "\n",
    "Во всех предыдущих пунктах мы получили много сильных моделей, которые могут быть достаточно разными по своей природе (например, метод ближайших соседей и случайный лес). Часто на практике оказывается возможным увеличить качество предсказани путем смешивания подобных разных моделей. Давайте посмотрим, действительно ли это дает прирост в качестве.\n",
    "\n",
    "Выберете из построенных моделей двух предыдущих пунктов две, которые дали наибольшее начество на кросс-валидации (обозначим их $clf_1$ и $clf_2$). Далее постройте новый классификатор, ответ которого на некотором объекте $x$ будет выглядеть следующим образом:\n",
    "\n",
    "$$result(x) = clf_1(x) * \\alpha + clf_2(x) * (1 - \\alpha)$$\n",
    "\n",
    "где $\\alpha$ — гиперпараметр нового классификатора.\n",
    "\n",
    "**(1 балл)** Подберите по сетке от 0 до 1 $\\alpha$ для этого классификатора с помощью 5-Fold CV и постройте график качества в зависимости от $\\alpha$ (аналогичный графику в разделе \"Обучение классификаторов и оценка качества\"). Дал ли этот подход прирост к качеству по сравнению с моделями ранее?"
   ]
  },
  {
   "cell_type": "code",
   "execution_count": 236,
   "metadata": {},
   "outputs": [],
   "source": [
    "clf1 = SGDClassifier(loss= 'log', penalty = 'l2')\n",
    "clf2 = RandomForestClassifier(n_estimators = 60, \n",
    "                                       criterion = 'entropy',\n",
    "                                       max_features = 'auto')"
   ]
  },
  {
   "cell_type": "code",
   "execution_count": 237,
   "metadata": {},
   "outputs": [],
   "source": [
    "from sklearn.ensemble import VotingClassifier\n",
    "eclf1 = VotingClassifier(estimators=[ ('clf1', clf1), ('clf2', clf2)], \n",
    "                        voting='soft')"
   ]
  },
  {
   "cell_type": "code",
   "execution_count": 238,
   "metadata": {
    "scrolled": true
   },
   "outputs": [],
   "source": [
    "# зададим веса моделей, перебирая альфы и после можно подать парметр weights в gridsearch\n",
    "weights = [[i, 1 - i] for i in np.arange(0, 1, 0.1)]"
   ]
  },
  {
   "cell_type": "code",
   "execution_count": 239,
   "metadata": {
    "scrolled": true
   },
   "outputs": [
    {
     "data": {
      "text/plain": [
       "GridSearchCV(cv=5, error_score='raise-deprecating',\n",
       "             estimator=VotingClassifier(estimators=[('clf1',\n",
       "                                                     SGDClassifier(alpha=0.0001,\n",
       "                                                                   average=False,\n",
       "                                                                   class_weight=None,\n",
       "                                                                   early_stopping=False,\n",
       "                                                                   epsilon=0.1,\n",
       "                                                                   eta0=0.0,\n",
       "                                                                   fit_intercept=True,\n",
       "                                                                   l1_ratio=0.15,\n",
       "                                                                   learning_rate='optimal',\n",
       "                                                                   loss='log',\n",
       "                                                                   max_iter=1000,\n",
       "                                                                   n_iter_no_change=5,\n",
       "                                                                   n_jobs=None,\n",
       "                                                                   penalty='l2',\n",
       "                                                                   power_t=0.5,\n",
       "                                                                   random_state=N...\n",
       "                                        voting='soft', weights=None),\n",
       "             iid='warn', n_jobs=None,\n",
       "             param_grid={'weights': [[0.0, 1.0], [0.1, 0.9], [0.2, 0.8],\n",
       "                                     [0.30000000000000004, 0.7], [0.4, 0.6],\n",
       "                                     [0.5, 0.5],\n",
       "                                     [0.6000000000000001, 0.3999999999999999],\n",
       "                                     [0.7000000000000001, 0.29999999999999993],\n",
       "                                     [0.8, 0.19999999999999996],\n",
       "                                     [0.9, 0.09999999999999998]]},\n",
       "             pre_dispatch='2*n_jobs', refit=True, return_train_score=False,\n",
       "             scoring='roc_auc', verbose=0)"
      ]
     },
     "execution_count": 239,
     "metadata": {},
     "output_type": "execute_result"
    }
   ],
   "source": [
    "search = GridSearchCV(eclf1,\n",
    "                      param_grid = {'weights': weights},\n",
    "                      scoring = 'roc_auc', \n",
    "                      cv = 5)\n",
    "search.fit(Xnew, y)"
   ]
  },
  {
   "cell_type": "code",
   "execution_count": 243,
   "metadata": {},
   "outputs": [
    {
     "name": "stdout",
     "output_type": "stream",
     "text": [
      "{'weights': [0.30000000000000004, 0.7]}\n",
      "0.9079911279210257\n"
     ]
    }
   ],
   "source": [
    "print(search.best_params_)\n",
    "print(search.best_score_)"
   ]
  },
  {
   "cell_type": "code",
   "execution_count": 242,
   "metadata": {},
   "outputs": [
    {
     "data": {
      "text/plain": [
       "[<matplotlib.lines.Line2D at 0x12a205810>]"
      ]
     },
     "execution_count": 242,
     "metadata": {},
     "output_type": "execute_result"
    },
    {
     "data": {
      "image/png": "[encoded data removed]",
      "text/plain": [
       "<Figure size 432x288 with 1 Axes>"
      ]
     },
     "metadata": {
      "needs_background": "light"
     },
     "output_type": "display_data"
    }
   ],
   "source": [
    "# Гра\n",
    "df_sc = pd.DataFrame(search.cv_results_)\n",
    "y1 = df_sc.mean_test_score\n",
    "x1 = np.arange(0, 1, 0.1)\n",
    "\n",
    "#график\n",
    "fig = plt.figure()\n",
    "axes = fig.add_axes([0,0,1,1])\n",
    "axes.grid()\n",
    "axes.plot(x1, y1, lw = 2)"
   ]
  },
  {
   "cell_type": "markdown",
   "metadata": {},
   "source": [
    "- Качество стало чуть выше, метрика на кросс валидации (сv = 5) у SGD была 0.9016\n",
    "У новой модели 0.90799"
   ]
  },
  {
   "cell_type": "markdown",
   "metadata": {},
   "source": [
    "## Сравнение построенных моделей\n",
    "\n",
    "![](http://cdn.shopify.com/s/files/1/0870/1066/files/compare_e8b89647-3cb6-4871-a976-2e36e5987773.png?1750043340268621065)\n",
    "\n",
    "После того как было построено много моделей хотелось бы сравнить их между собой. Для этого можно построить \"ящик с усами\" (диаграму размаха). Для этого можно воспользоваться библиотекой [matplotlib](https://matplotlib.org/3.1.0/api/_as_gen/matplotlib.pyplot.boxplot.html) или [seaborn](https://seaborn.pydata.org/generated/seaborn.boxplot.html).\n",
    "\n",
    "**(1 балл)** Для каждого типа классификатора (kNN, DecisionTree, RandomForest, SGD classifier), а так же смешанной модели выберете тот, которых давал наилучшее качество на кросс-валидации и постройте диаграмму размаха (все классификаторы должны быть изображены на одном графике).\n",
    " \n",
    "Сделайте общие итоговые выводы о классификаторах с точки зрения их работы с признаками и сложности самой модели (какие гиперпараметры есть у модели, сильно ли изменение значения гиперпараметра влияет на качество модели)."
   ]
  },
  {
   "cell_type": "code",
   "execution_count": 207,
   "metadata": {},
   "outputs": [],
   "source": [
    "KNn = cross_val_score(KNeighborsClassifier(metric =  'manhattan', n_neighbors = 24), X = Xnew, y = y,\n",
    "                scoring = 'roc_auc', cv = 5)"
   ]
  },
  {
   "cell_type": "code",
   "execution_count": 208,
   "metadata": {},
   "outputs": [],
   "source": [
    "DT = cross_val_score(DecisionTreeClassifier(criterion = 'entropy', max_depth = 8), X = Xnew, y = y,\n",
    "                scoring = 'roc_auc', cv = 5)"
   ]
  },
  {
   "cell_type": "code",
   "execution_count": 247,
   "metadata": {},
   "outputs": [],
   "source": [
    "SGD = cross_val_score(SGDClassifier(loss= 'log', penalty = 'l2'), X = Xnew, y = y,\n",
    "                scoring = 'roc_auc', cv = 5)"
   ]
  },
  {
   "cell_type": "code",
   "execution_count": 249,
   "metadata": {},
   "outputs": [],
   "source": [
    "RF = cross_val_score(RandomForestClassifier(n_estimators = 60, \n",
    "                                       criterion = 'entropy',\n",
    "                                       max_features = 'auto'),\n",
    "                X = Xnew, y = y, scoring = 'roc_auc', cv = 5)"
   ]
  },
  {
   "cell_type": "code",
   "execution_count": 245,
   "metadata": {},
   "outputs": [],
   "source": [
    "model = VotingClassifier(estimators=[ ('clf1', clf1), ('clf2', clf2)], \n",
    "                        voting='soft', weights = [0.3, 0.7])\n",
    "Voitig = cross_val_score(model, X = Xnew, y = y,\n",
    "                scoring = 'roc_auc', cv = 5)\n"
   ]
  },
  {
   "cell_type": "code",
   "execution_count": 251,
   "metadata": {},
   "outputs": [
    {
     "data": {
      "image/png": "[encoded data removed]",
      "text/plain": [
       "<Figure size 432x288 with 1 Axes>"
      ]
     },
     "metadata": {
      "needs_background": "light"
     },
     "output_type": "display_data"
    }
   ],
   "source": [
    "plt.boxplot([KNn,\n",
    "             DT,\n",
    "             RF,\n",
    "            SGD, \n",
    "            Voitig])\n",
    "plt.show()"
   ]
  },
  {
   "cell_type": "markdown",
   "metadata": {},
   "source": [
    "На графике размаха видно, что наилучший резултат roc_auc по кросс_валидации дала смешанная модель (SGD + RandomFores), хоть и отличие от SGD отдельно не такое большое.\n",
    "\n",
    "Изнчално, подбор мастабирование данных значительно повлияло только на KNN и SGD. В KNN это связано с тем, что без масшибирования у разных признаков разный вклад в расстояние до соседа.\n",
    "Также в KNN самый долгий подбор параметров, так как приходится на считай большое кол-во соседей для каждого объекта."
   ]
  },
  {
   "cell_type": "code",
   "execution_count": null,
   "metadata": {},
   "outputs": [],
   "source": []
  }
 ],
 "metadata": {
  "kernelspec": {
   "display_name": "Python 3",
   "language": "python",
   "name": "python3"
  },
  "language_info": {
   "codemirror_mode": {
    "name": "ipython",
    "version": 3
   },
   "file_extension": ".py",
   "mimetype": "text/x-python",
   "name": "python",
   "nbconvert_exporter": "python",
   "pygments_lexer": "ipython3",
   "version": "3.7.4"
  }
 },
 "nbformat": 4,
 "nbformat_minor": 1
}
