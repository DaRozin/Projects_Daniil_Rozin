{
 "cells": [
  {
   "cell_type": "markdown",
   "metadata": {},
   "source": [
    "## Проверка гипотез для мат ожиданий, разности мат ожиданий, дисперсий\n",
    "\n",
    "Это полезные инструменты для анализа продуктовых метрик и проведения A/B тестов, в которых нужно проверить произшло ли знаимое изменение в метриках"
   ]
  },
  {
   "cell_type": "code",
   "execution_count": null,
   "metadata": {},
   "outputs": [],
   "source": [
    "import numpy as np\n",
    "from scipy.stats import norm\n",
    "from scipy.stats import t\n",
    "from scipy.stats import chi2\n",
    "from scipy.stats import f\n",
    "\n",
    "# Найдем квантили распределений\n",
    "\n",
    "    # выберем уровень квантили\n",
    "a = 0.95\n",
    "\n",
    "    # квантиль стандартного нормаль\n",
    "norm.ppf(a,       # уровень квантили\n",
    "         0,       # математическое ожидание\n",
    "         1)       # стандартное отклонение\n",
    "\n",
    "    # квантиль распределения стьюдента с 5-ю степенями свободы\n",
    "\n",
    "t.ppf(a,          # уровень квантили\n",
    "      5)          # числло степеней свободы\n",
    "\n",
    "    # квантиль распределения хи-квадрат с 5-ю степенями свободы\n",
    "\n",
    "chi2.ppf(a,       # уровень квантили\n",
    "         5)       # числло степеней свободы\n",
    "\n",
    "    # квантиль распределения фишера с 5-ю и 7-ю степенями свободы\n",
    "\n",
    "f.ppf(a,          # уровень квантили\n",
    "       5,         # числло степеней свободы (первый аргумент)\n",
    "       7)         # числло степеней свободы (второй аргумент)"
   ]
  },
  {
   "cell_type": "code",
   "execution_count": 4,
   "metadata": {},
   "outputs": [],
   "source": [
    "# подкгружаем библиотеки\n",
    "from scipy.stats import norm\n",
    "import numpy as np\n",
    "import pandas as pd"
   ]
  },
  {
   "cell_type": "markdown",
   "metadata": {},
   "source": [
    "### Проверка гипотезы для мат ожидадания при неизвестной дисперсии"
   ]
  },
  {
   "cell_type": "code",
   "execution_count": 7,
   "metadata": {},
   "outputs": [],
   "source": [
    "#Дисперсия неизвестна\n",
    "# формат данных - массим numpy\n",
    "Y = np.array([-1, 0, 1, 2])\n",
    "\n",
    "def m_test_1(data, alpha, hyp, type):\n",
    "    m = len(data)\n",
    "    data_mean = data.mean()\n",
    "    \n",
    "    #несмещенная оценка дисперсии\n",
    "    s_sq = np.sum((data - data_mean)**2)/(m-1)\n",
    "    se = (np.sqrt(s_sq)/np.sqrt(m))\n",
    "    t_stat = (data_mean - hyp)/se\n",
    "    if type == 1: # h_1 mu not = hyp\n",
    "        t_cr_1 = stats.t.ppf(alpha / 2, m - 1)\n",
    "        t_cr_2 = stats.t.ppf(1 - alpha / 2, m - 1)\n",
    "        p_val = 2*(1 - stats.t.cdf(abs(t_stat), m - 1))\n",
    "        print(\"Statistics\", t_stat)\n",
    "        print(\"Quantails\", t_cr_1, t_cr_2)\n",
    "        print(\"p-value\", p_val)\n",
    "    elif type == 2: # H_1: mu > hyp\n",
    "        t_cr_1 = '-inf'\n",
    "        t_cr_2 = stats.t.ppf(1 - alpha, m - 1)\n",
    "        p_val = 1 -  stats.t.cdf(t_stat, m - 1)\n",
    "        print(\"Statistics\", t_stat)\n",
    "        print(\"Quantails\", t_cr_1, t_cr_2)\n",
    "        print(\"p-value\", p_val)\n",
    "    else: # H_3: mu < hyp\n",
    "        t_cr_1 = stats.t.ppf(alpha, m - 1)\n",
    "        t_cr_2 = 'inf'\n",
    "        p_val = stats.t.cdf(t_stat, m-1)\n",
    "        print(\"Statistics\", t_stat)\n",
    "        print(\"Quantails\", t_cr_1, t_cr_2)\n",
    "        print(\"p-value\", p_val)"
   ]
  },
  {
   "cell_type": "markdown",
   "metadata": {},
   "source": [
    "### Проверка гипотезы для мат ожидадания при известной дисперсии"
   ]
  },
  {
   "cell_type": "code",
   "execution_count": 39,
   "metadata": {},
   "outputs": [],
   "source": [
    "#дисперсия известна\n",
    "def m_test_2(data, var, alpha, hyp, type):\n",
    "    m = len(data)\n",
    "    se = (np.sqrt(var)/np.sqrt(m))\n",
    "    t_stat = (data_mean - hyp)/se\n",
    "    if type == 1: # h_1 mu not = hyp\n",
    "        t_cr_1 = stats.t.ppf(alpha / 2, m - 1)\n",
    "        t_cr_2 = stats.t.ppf(1 - alpha / 2, m - 1)\n",
    "        p_val = 2*(1 - stats.t.cdf(abs(t_stat), m - 1))\n",
    "        print(\"Statistics\", t_stat)\n",
    "        print(\"Quantails\", t_cr_1, t_cr_2)\n",
    "        print(\"p-value\", p_val)\n",
    "    elif type == 2: # H_1: mu > hyp\n",
    "        t_cr_1 = '-inf'\n",
    "        t_cr_2 = stats.t.ppf(1 - alpha, m - 1)\n",
    "        p_val = 1 -  stats.t.cdf(t_stat, m - 1)\n",
    "        print(\"Statistics\", t_stat)\n",
    "        print(\"Quantails\", t_cr_1, t_cr_2)\n",
    "        print(\"p-value\", p_val)\n",
    "    else: # H_3: mu < hyp\n",
    "        t_cr_1 = stats.t.ppf(alpha, m - 1)\n",
    "        t_cr_2 = 'inf'\n",
    "        p_val = stats.t.cdf(t_stat, m-1)\n",
    "        print(\"Statistics\", t_stat)\n",
    "        print(\"Quantails\", t_cr_1, t_cr_2)\n",
    "        print(\"p-value\", p_val)"
   ]
  },
  {
   "cell_type": "markdown",
   "metadata": {},
   "source": [
    "### Гипотеза о равентсве дисперсий"
   ]
  },
  {
   "cell_type": "code",
   "execution_count": 40,
   "metadata": {},
   "outputs": [],
   "source": [
    "#Гипотеза о равентсве дисперсий\n",
    "def eq_vars(data1, data2, alpha):\n",
    "    m = len(data1)\n",
    "    n = len(data2)\n",
    "    data1_mean = data1.mean()\n",
    "    data2_mean = data2.mean()\n",
    "    s_sq1 = np.sum((data1 - data1_mean)**2)/(m-1)\n",
    "    s_sq2 = np.sum((data2 - data2_mean)**2)/(n-1)\n",
    "    t_stat = s_sq1/s_sq2\n",
    "    #Квантили для распределения фишера\n",
    "    t_cr_1 = stats.f.ppf(alpha / 2, m, n)\n",
    "    t_cr_2 = stats.t.ppf(1 - alpha / 2, m, n)\n",
    "    print(\"Statistics\", t_stat)\n",
    "    print(\"Quantails\", t_cr_1, t_cr_2)"
   ]
  },
  {
   "cell_type": "markdown",
   "metadata": {},
   "source": [
    "### Гипотеза для дисперсии"
   ]
  },
  {
   "cell_type": "code",
   "execution_count": 1,
   "metadata": {},
   "outputs": [],
   "source": [
    "#Для дисперсии\n",
    "def hyp_var(data, hyp, alpha):\n",
    "    m = len(data)\n",
    "    data_mean = data.mean()\n",
    "    s_sq = np.sum((data - data_mean)**2)/(m-1)\n",
    "    t_stat = s_sq*(m - 1)/hyp\n",
    "    t_cr_1 = stats.chi2.ppf(alpha / 2, m - 1)\n",
    "    t_cr_2 = stats.chi2.ppf(1 - alpha / 2, m - 1)\n",
    "    print(\"Statistics\", t_stat)\n",
    "    print(\"Quantails\", t_cr_1, t_cr_2)"
   ]
  },
  {
   "cell_type": "markdown",
   "metadata": {},
   "source": [
    "### Гипотеза - разность мат ожиданий для связных пар"
   ]
  },
  {
   "cell_type": "code",
   "execution_count": 15,
   "metadata": {},
   "outputs": [],
   "source": [
    "#Гипотеза - разность мат ожиданий для связных пар \n",
    "def m_del(data1, data2, hip, alpha):\n",
    "    delta = data1 - data2\n",
    "    n = len(delta)\n",
    "    delta_mean = delta.mean()\n",
    "    sigma = np.sqrt(np.sum((delta - delta_mean)**2)/(n - 1))\n",
    "    t_stat = (delta_mean - hip)/(sigma/np.sqrt(n))\n",
    "    t_cr_1 = stats.t.ppf(alpha / 2, n - 1)\n",
    "    t_cr_2 = stats.t.ppf(1 - alpha / 2, n - 1)\n",
    "    print(\"Statistics\", t_stat)\n",
    "    print(\"Quantails\", t_cr_1, t_cr_2)"
   ]
  },
  {
   "cell_type": "markdown",
   "metadata": {},
   "source": [
    "### Гипотеза - разность мат ожиданий при изветных дисперсиях\n",
    "\n",
    "- Даже если дисперсии неизвестны, ассимптотически ДИ остается правильным, так как можно использовать состоятельную оценку дисперсии\n",
    "\n",
    "var1 = np.var(numpy array, ddof = 1)"
   ]
  },
  {
   "cell_type": "code",
   "execution_count": 20,
   "metadata": {},
   "outputs": [],
   "source": [
    "#Гипотеза - разность мат ожиданий дисперсии известны + проверил\n",
    "def m_sigma_given(data1, sigma2x, data2, sigma2y, hip, alpha):\n",
    "    data1_mean = data1.mean()\n",
    "    data2_mean = data2.mean()\n",
    "    t_stat = (data1_mean - data2_mean - hip)/np.sqrt(sigma2x/len(data1) + sigma2y/len(data2))\n",
    "    t_cr_1 = stats.norm.ppf(alpha / 2)\n",
    "    t_cr_2 = stats.norm.ppf(1 - alpha / 2)\n",
    "    print(\"Statistics\", t_stat)\n",
    "    print(\"Quantails\", t_cr_1, t_cr_2)"
   ]
  },
  {
   "cell_type": "markdown",
   "metadata": {},
   "source": [
    "### Гипотеза - разность мат ожиданий при неизвестных, но равных дисперсиях"
   ]
  },
  {
   "cell_type": "code",
   "execution_count": 27,
   "metadata": {},
   "outputs": [],
   "source": [
    "#Дисперсии равны/неизвестны \n",
    "def m_sigma_eq(data1, data2, hip, alpha):\n",
    "    #Дисперсия X\n",
    "    data1_mean = data1.mean()\n",
    "    nx = len(data1)\n",
    "    sigma2x = np.sum((data1 - data1_mean)**2)/(nx - 1)\n",
    "    #Дисперсия Y\n",
    "    data2_mean = data2.mean()\n",
    "    ny = len(data2)\n",
    "    sigma2y = np.sum((data2 - data2_mean)**2)/(ny - 1)\n",
    "    sigma2_emp = (sigma2x*(nx - 1) + sigma2y*(ny - 1))/(nx + ny -2)\n",
    "    t_stat = (data1_mean - data2_mean - hip)/(np.sqrt(sigma2_emp)*np.sqrt(1/nx + 1/ny))\n",
    "    t_cr_1 = stats.t.ppf(alpha / 2, nx + ny -2)\n",
    "    t_cr_2 = stats.t.ppf(1 - alpha / 2, nx + ny - 2)\n",
    "    print(\"Statistics\", t_stat)\n",
    "    print(\"Quantails\", t_cr_1, t_cr_2)"
   ]
  }
 ],
 "metadata": {
  "kernelspec": {
   "display_name": "Python 3",
   "language": "python",
   "name": "python3"
  },
  "language_info": {
   "codemirror_mode": {
    "name": "ipython",
    "version": 3
   },
   "file_extension": ".py",
   "mimetype": "text/x-python",
   "name": "python",
   "nbconvert_exporter": "python",
   "pygments_lexer": "ipython3",
   "version": "3.7.4"
  }
 },
 "nbformat": 4,
 "nbformat_minor": 2
}
